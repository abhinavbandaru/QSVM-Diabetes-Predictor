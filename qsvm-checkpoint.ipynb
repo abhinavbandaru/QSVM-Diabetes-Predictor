{
 "cells": [
  {
   "cell_type": "code",
   "execution_count": 1,
   "metadata": {},
   "outputs": [
    {
     "name": "stdout",
     "output_type": "stream",
     "text": [
      "Requirement already satisfied: qiskit in ./qc/lib/python3.6/site-packages (0.19.2)\n",
      "Requirement already satisfied: qiskit-aer==0.5.1 in ./qc/lib/python3.6/site-packages (from qiskit) (0.5.1)\n",
      "Requirement already satisfied: qiskit-ibmq-provider==0.7.1 in ./qc/lib/python3.6/site-packages (from qiskit) (0.7.1)\n",
      "Requirement already satisfied: qiskit-aqua==0.7.1 in ./qc/lib/python3.6/site-packages (from qiskit) (0.7.1)\n",
      "Requirement already satisfied: qiskit-ignis==0.3.0 in ./qc/lib/python3.6/site-packages (from qiskit) (0.3.0)\n",
      "Requirement already satisfied: qiskit-terra==0.14.1 in ./qc/lib/python3.6/site-packages (from qiskit) (0.14.1)\n",
      "Requirement already satisfied: scipy>=1.0 in ./qc/lib/python3.6/site-packages (from qiskit-aer==0.5.1->qiskit) (1.4.1)\n",
      "Requirement already satisfied: numpy>=1.16.3 in ./qc/lib/python3.6/site-packages (from qiskit-aer==0.5.1->qiskit) (1.18.4)\n",
      "Requirement already satisfied: cython>=0.27.1 in ./qc/lib/python3.6/site-packages (from qiskit-aer==0.5.1->qiskit) (0.29.19)\n",
      "Requirement already satisfied: pybind11>=2.4 in ./qc/lib/python3.6/site-packages (from qiskit-aer==0.5.1->qiskit) (2.5.0)\n",
      "Requirement already satisfied: nest-asyncio!=1.1.0,>=1.0.0 in ./qc/lib/python3.6/site-packages (from qiskit-ibmq-provider==0.7.1->qiskit) (1.3.3)\n",
      "Requirement already satisfied: urllib3>=1.21.1 in ./qc/lib/python3.6/site-packages (from qiskit-ibmq-provider==0.7.1->qiskit) (1.24.3)\n",
      "Requirement already satisfied: websockets<8,>=7 in ./qc/lib/python3.6/site-packages (from qiskit-ibmq-provider==0.7.1->qiskit) (7.0)\n",
      "Requirement already satisfied: requests-ntlm>=1.1.0 in ./qc/lib/python3.6/site-packages (from qiskit-ibmq-provider==0.7.1->qiskit) (1.1.0)\n",
      "Requirement already satisfied: requests>=2.19 in ./qc/lib/python3.6/site-packages (from qiskit-ibmq-provider==0.7.1->qiskit) (2.23.0)\n",
      "Requirement already satisfied: python-dateutil>=2.8.0 in ./qc/lib/python3.6/site-packages (from qiskit-ibmq-provider==0.7.1->qiskit) (2.8.1)\n",
      "Requirement already satisfied: docplex in ./qc/lib/python3.6/site-packages (from qiskit-aqua==0.7.1->qiskit) (2.14.186)\n",
      "Requirement already satisfied: dlx in ./qc/lib/python3.6/site-packages (from qiskit-aqua==0.7.1->qiskit) (1.0.4)\n",
      "Requirement already satisfied: quandl in ./qc/lib/python3.6/site-packages (from qiskit-aqua==0.7.1->qiskit) (3.5.0)\n",
      "Requirement already satisfied: psutil>=5 in ./qc/lib/python3.6/site-packages (from qiskit-aqua==0.7.1->qiskit) (5.7.0)\n",
      "Requirement already satisfied: networkx>=2.2 in ./qc/lib/python3.6/site-packages (from qiskit-aqua==0.7.1->qiskit) (2.4)\n",
      "Requirement already satisfied: scikit-learn>=0.20.0 in ./qc/lib/python3.6/site-packages (from qiskit-aqua==0.7.1->qiskit) (0.23.1)\n",
      "Requirement already satisfied: setuptools>=40.1.0 in ./qc/lib/python3.6/site-packages (from qiskit-aqua==0.7.1->qiskit) (46.4.0)\n",
      "Requirement already satisfied: sympy>=1.3 in ./qc/lib/python3.6/site-packages (from qiskit-aqua==0.7.1->qiskit) (1.6)\n",
      "Requirement already satisfied: h5py in ./qc/lib/python3.6/site-packages (from qiskit-aqua==0.7.1->qiskit) (2.10.0)\n",
      "Requirement already satisfied: fastdtw in ./qc/lib/python3.6/site-packages (from qiskit-aqua==0.7.1->qiskit) (0.3.4)\n",
      "Requirement already satisfied: pyscf; sys_platform != \"win32\" in ./qc/lib/python3.6/site-packages (from qiskit-aqua==0.7.1->qiskit) (1.7.2.post2)\n",
      "Requirement already satisfied: marshmallow<4,>=3 in ./qc/lib/python3.6/site-packages (from qiskit-terra==0.14.1->qiskit) (3.6.0)\n",
      "Requirement already satisfied: marshmallow-polyfield<6,>=5.7 in ./qc/lib/python3.6/site-packages (from qiskit-terra==0.14.1->qiskit) (5.9)\n",
      "Requirement already satisfied: python-constraint>=1.4 in ./qc/lib/python3.6/site-packages (from qiskit-terra==0.14.1->qiskit) (1.4.0)\n",
      "Requirement already satisfied: jsonschema>=2.6 in ./qc/lib/python3.6/site-packages (from qiskit-terra==0.14.1->qiskit) (3.2.0)\n",
      "Requirement already satisfied: retworkx>=0.3.2 in ./qc/lib/python3.6/site-packages (from qiskit-terra==0.14.1->qiskit) (0.3.4)\n",
      "Requirement already satisfied: ply>=3.10 in ./qc/lib/python3.6/site-packages (from qiskit-terra==0.14.1->qiskit) (3.11)\n",
      "Requirement already satisfied: fastjsonschema>=2.10 in ./qc/lib/python3.6/site-packages (from qiskit-terra==0.14.1->qiskit) (2.14.4)\n",
      "Requirement already satisfied: dill>=0.3 in ./qc/lib/python3.6/site-packages (from qiskit-terra==0.14.1->qiskit) (0.3.1.1)\n",
      "Requirement already satisfied: cryptography>=1.3 in ./qc/lib/python3.6/site-packages (from requests-ntlm>=1.1.0->qiskit-ibmq-provider==0.7.1->qiskit) (2.9.2)\n",
      "Requirement already satisfied: ntlm-auth>=1.0.2 in ./qc/lib/python3.6/site-packages (from requests-ntlm>=1.1.0->qiskit-ibmq-provider==0.7.1->qiskit) (1.4.0)\n",
      "Requirement already satisfied: certifi>=2017.4.17 in ./qc/lib/python3.6/site-packages (from requests>=2.19->qiskit-ibmq-provider==0.7.1->qiskit) (2020.4.5.1)\n",
      "Requirement already satisfied: idna<3,>=2.5 in ./qc/lib/python3.6/site-packages (from requests>=2.19->qiskit-ibmq-provider==0.7.1->qiskit) (2.9)\n",
      "Requirement already satisfied: chardet<4,>=3.0.2 in ./qc/lib/python3.6/site-packages (from requests>=2.19->qiskit-ibmq-provider==0.7.1->qiskit) (3.0.4)\n",
      "Requirement already satisfied: six>=1.5 in ./qc/lib/python3.6/site-packages (from python-dateutil>=2.8.0->qiskit-ibmq-provider==0.7.1->qiskit) (1.15.0)\n",
      "Requirement already satisfied: more-itertools in ./qc/lib/python3.6/site-packages (from quandl->qiskit-aqua==0.7.1->qiskit) (8.3.0)\n",
      "Requirement already satisfied: pandas>=0.14 in ./qc/lib/python3.6/site-packages (from quandl->qiskit-aqua==0.7.1->qiskit) (1.0.3)\n",
      "Requirement already satisfied: inflection>=0.3.1 in ./qc/lib/python3.6/site-packages (from quandl->qiskit-aqua==0.7.1->qiskit) (0.4.0)\n",
      "Requirement already satisfied: decorator>=4.3.0 in ./qc/lib/python3.6/site-packages (from networkx>=2.2->qiskit-aqua==0.7.1->qiskit) (4.4.2)\n",
      "Requirement already satisfied: threadpoolctl>=2.0.0 in ./qc/lib/python3.6/site-packages (from scikit-learn>=0.20.0->qiskit-aqua==0.7.1->qiskit) (2.0.0)\n",
      "Requirement already satisfied: joblib>=0.11 in ./qc/lib/python3.6/site-packages (from scikit-learn>=0.20.0->qiskit-aqua==0.7.1->qiskit) (0.15.1)\n",
      "Requirement already satisfied: mpmath>=0.19 in ./qc/lib/python3.6/site-packages (from sympy>=1.3->qiskit-aqua==0.7.1->qiskit) (1.1.0)\n",
      "Requirement already satisfied: importlib-metadata; python_version < \"3.8\" in ./qc/lib/python3.6/site-packages (from jsonschema>=2.6->qiskit-terra==0.14.1->qiskit) (1.6.0)\n",
      "Requirement already satisfied: attrs>=17.4.0 in ./qc/lib/python3.6/site-packages (from jsonschema>=2.6->qiskit-terra==0.14.1->qiskit) (19.3.0)\n",
      "Requirement already satisfied: pyrsistent>=0.14.0 in ./qc/lib/python3.6/site-packages (from jsonschema>=2.6->qiskit-terra==0.14.1->qiskit) (0.16.0)\n",
      "Requirement already satisfied: cffi!=1.11.3,>=1.8 in ./qc/lib/python3.6/site-packages (from cryptography>=1.3->requests-ntlm>=1.1.0->qiskit-ibmq-provider==0.7.1->qiskit) (1.14.0)\n",
      "Requirement already satisfied: pytz>=2017.2 in ./qc/lib/python3.6/site-packages (from pandas>=0.14->quandl->qiskit-aqua==0.7.1->qiskit) (2020.1)\n",
      "Requirement already satisfied: zipp>=0.5 in ./qc/lib/python3.6/site-packages (from importlib-metadata; python_version < \"3.8\"->jsonschema>=2.6->qiskit-terra==0.14.1->qiskit) (3.1.0)\n",
      "Requirement already satisfied: pycparser in ./qc/lib/python3.6/site-packages (from cffi!=1.11.3,>=1.8->cryptography>=1.3->requests-ntlm>=1.1.0->qiskit-ibmq-provider==0.7.1->qiskit) (2.20)\n"
     ]
    }
   ],
   "source": [
    "!pip install qiskit"
   ]
  },
  {
   "cell_type": "code",
   "execution_count": null,
   "metadata": {},
   "outputs": [
    {
     "name": "stdout",
     "output_type": "stream",
     "text": [
      "pima-indians-diabetes-database.zip: Skipping, found more recently modified local copy (use --force to force download)\n",
      "Archive:  pima-indians-diabetes-database.zip\n",
      "replace diabetes.csv? [y]es, [n]o, [A]ll, [N]one, [r]ename: "
     ]
    }
   ],
   "source": [
    "# unzipped already, no need to do again\n",
    "!unzip pima-indians-diabetes-database.zip"
   ]
  },
  {
   "cell_type": "code",
   "execution_count": null,
   "metadata": {},
   "outputs": [],
   "source": [
    "# just in case someone wants to see the ugly comma seperated file\n",
    "import csv\n",
    "with open('/data/diabetes.csv', newline='') as File:  \n",
    "    reader = csv.reader(File)\n",
    "    for row in reader:\n",
    "        print(row)"
   ]
  },
  {
   "cell_type": "code",
   "execution_count": 4,
   "metadata": {},
   "outputs": [
    {
     "name": "stdout",
     "output_type": "stream",
     "text": [
      "(768, 9)\n"
     ]
    }
   ],
   "source": [
    "import numpy as np\n",
    "data = np.genfromtxt('diabetes.csv', delimiter=',', names=True, case_sensitive=True)\n",
    "data = np.array(data.tolist()) # was an array of arrays earlier\n",
    "print(data.shape)\n",
    "x = np.copy(data[:,0:8]) #features\n",
    "y = np.copy(data[:,8]) #targets\n",
    "features = 8 #or number of qubits which I kept equal to number of features in this case"
   ]
  },
  {
   "cell_type": "code",
   "execution_count": 2,
   "metadata": {},
   "outputs": [],
   "source": [
    "from sklearn.model_selection import train_test_split\n",
    "import qiskit\n",
    "from qiskit import BasicAer\n",
    "from qiskit.aqua import QuantumInstance\n",
    "from qiskit.aqua.algorithms import QSVM\n",
    "from qiskit.aqua.components.multiclass_extensions import one_against_rest, all_pairs\n",
    "from qiskit.aqua.components.feature_maps import SecondOrderExpansion\n",
    "#from qiskit.aqua.input import ClassificationInput\n",
    "#from qiskit.aqua import run_algorithm"
   ]
  },
  {
   "cell_type": "code",
   "execution_count": 7,
   "metadata": {},
   "outputs": [],
   "source": [
    "#please and please again, use your own IBMQ token (can be generated easily), I have very few processes left for me.\n",
    "key = '243ff4202efc1b45ad9282b9d6d524cdcccfc25561a86de37424b5ddd9aaa72969ea300500423019c48da10777e3241a5a45ff4a223439239cba4bed8d8709cc'"
   ]
  },
  {
   "cell_type": "code",
   "execution_count": 8,
   "metadata": {},
   "outputs": [
    {
     "name": "stderr",
     "output_type": "stream",
     "text": [
      "configrc.store_credentials:WARNING:2020-06-12 20:10:05,411: Credentials already present. Set overwrite=True to overwrite.\n"
     ]
    }
   ],
   "source": [
    "qiskit.IBMQ.save_account(key)\n",
    "provider = qiskit.IBMQ.load_account()\n",
    "backend = provider.get_backend('ibmq_qasm_simulator')"
   ]
  },
  {
   "cell_type": "code",
   "execution_count": 6,
   "metadata": {},
   "outputs": [],
   "source": [
    "#using only first 100, if anyone is brave enough, train_test_split(x, y, test_size=0.2)\n",
    "train_x, test_x, train_y, test_y = train_test_split(x[0:301], y[0:301], test_size=0.2)\n",
    "\n",
    "training_data = {'A':train_x[train_y==0],'B':train_x[train_y==1]}\n",
    "testing_data = {'A':test_x[test_y==0],'B':test_x[test_y==1]}"
   ]
  },
  {
   "cell_type": "code",
   "execution_count": 7,
   "metadata": {},
   "outputs": [
    {
     "name": "stderr",
     "output_type": "stream",
     "text": [
      "/home/utkarsh/QC/qc/lib/python3.6/site-packages/ipykernel_launcher.py:1: DeprecationWarning: The qiskit.aqua.components.feature_maps.SecondOrderExpansion object is deprecated as of 0.7.0 and will be removed no sooner than 3 months after the release. You should use qiskit.circuit.library.ZZFeatureMap instead.\n",
      "  \"\"\"Entry point for launching an IPython kernel.\n",
      "/home/utkarsh/QC/qc/lib/python3.6/site-packages/qiskit/aqua/components/feature_maps/second_order_expansion.py:59: DeprecationWarning: The qiskit.aqua.components.feature_maps.PauliZExpansion class is deprecated as of 0.7.0 and will be removed no sooner than 3 months after the release. You should use qiskit.circuit.library.PauliFeatureMap instead.\n",
      "  z_order=2, data_map_func=data_map_func)\n",
      "/home/utkarsh/QC/qc/lib/python3.6/site-packages/qiskit/aqua/components/feature_maps/pauli_z_expansion.py:71: DeprecationWarning: The qiskit.aqua.components.feature_maps.PauliExpansion object is deprecated as of 0.7.0 and will be removed no sooner than 3 months after the release. You should use qiskit.circuit.library.PauliFeatureMap instead.\n",
      "  paulis=pauli_string, data_map_func=data_map_func)\n",
      "/home/utkarsh/QC/qc/lib/python3.6/site-packages/ipykernel_launcher.py:2: DeprecationWarning: \n",
      "                The <class 'qiskit.aqua.components.feature_maps.second_order_expansion.SecondOrderExpansion'> object as input for the QSVM is deprecated as of 0.7.0 and will\n",
      "                be removed no earlier than 3 months after the release.\n",
      "                You should pass a QuantumCircuit object instead.\n",
      "                See also qiskit.circuit.library.data_preparation for a collection\n",
      "                of suitable circuits.\n",
      "  \n"
     ]
    }
   ],
   "source": [
    "feature_map = SecondOrderExpansion(feature_dimension=features,depth=2,entanglement='full')\n",
    "svm = QSVM(feature_map,training_data,testing_data)\n",
    "shots = 1 \n",
    "quantum_instance = QuantumInstance(backend,shots=shots,skip_qobj_validation=False)"
   ]
  },
  {
   "cell_type": "code",
   "execution_count": 8,
   "metadata": {},
   "outputs": [
    {
     "name": "stdout",
     "output_type": "stream",
     "text": [
      "CPU times: user 1h 24min 28s, sys: 1min 45s, total: 1h 26min 13s\n",
      "Wall time: 4h 38min 37s\n"
     ]
    }
   ],
   "source": [
    "%%time\n",
    "result = svm.run(quantum_instance) "
   ]
  },
  {
   "cell_type": "code",
   "execution_count": 9,
   "metadata": {},
   "outputs": [
    {
     "name": "stdout",
     "output_type": "stream",
     "text": [
      "{'kernel_matrix_training': array([[1., 0., 0., ..., 0., 0., 0.],\n",
      "       [0., 1., 0., ..., 0., 0., 0.],\n",
      "       [0., 0., 1., ..., 0., 0., 0.],\n",
      "       ...,\n",
      "       [0., 0., 0., ..., 1., 0., 0.],\n",
      "       [0., 0., 0., ..., 0., 1., 0.],\n",
      "       [0., 0., 0., ..., 0., 0., 1.]]), 'svm': {'alphas': array([5.63409705e+01, 5.63409705e+01, 5.63409705e+01, 2.60546232e+02,\n",
      "       4.92735035e+01, 5.63409705e+01, 2.00145419e+02, 2.78394034e+01,\n",
      "       3.61613951e+01, 1.06352642e+01, 5.47516490e+01, 5.80463371e+01,\n",
      "       5.63409705e+01, 4.11618957e+01, 5.63409705e+01, 2.45288197e+02,\n",
      "       5.63409705e+01, 5.63409705e+01, 9.22240073e+01, 5.45504566e+01,\n",
      "       5.63409705e+01, 4.11618957e+01, 4.38776603e+01, 1.73555118e+02,\n",
      "       5.63409705e+01, 8.61491307e+01, 2.45288197e+02, 6.18206669e+01,\n",
      "       1.05809769e+02, 2.60546232e+02, 4.11618957e+01, 4.87843327e+01,\n",
      "       5.63409705e+01, 5.63409705e+01, 9.49691450e+01, 5.63409705e+01,\n",
      "       3.52325646e+02, 2.60546232e+02, 5.63409705e+01, 1.79156728e+01,\n",
      "       5.63409705e+01, 5.63409705e+01, 5.63409705e+01, 5.63409705e+01,\n",
      "       1.93713080e+01, 3.11106728e+01, 4.92735035e+01, 5.63409705e+01,\n",
      "       5.63409705e+01, 8.36240655e+01, 5.63409705e+01, 5.63409705e+01,\n",
      "       2.45288197e+02, 5.63409705e+01, 5.63409705e+01, 5.63409705e+01,\n",
      "       4.11618957e+01, 5.63409705e+01, 5.63409705e+01, 2.82876107e+02,\n",
      "       5.63409705e+01, 3.58791588e+02, 2.45288197e+02, 1.30225303e+02,\n",
      "       5.63409705e+01, 6.65332192e+01, 9.76399658e+01, 5.63409705e+01,\n",
      "       3.61760787e+01, 5.63409705e+01, 6.79499265e+01, 4.19264983e+01,\n",
      "       2.45288197e+02, 3.91613997e+02, 5.63409705e+01, 1.13291878e+00,\n",
      "       3.36669631e+01, 2.73965187e+01, 5.63409705e+01, 9.66116972e+01,\n",
      "       3.11106728e+01, 4.43423489e+01, 4.50631667e+01, 5.63409705e+01,\n",
      "       1.49273735e-01, 9.30512982e+01, 5.63409705e+01, 2.45288197e+02,\n",
      "       2.05094850e+03, 4.11618957e+01, 6.09599595e+01, 5.63409705e+01,\n",
      "       2.36100100e+02, 5.63409705e+01, 4.43423489e+01, 5.63409705e+01,\n",
      "       2.45288197e+02, 5.63409705e+01, 5.63409705e+01, 1.00641765e+02,\n",
      "       2.63559474e+01, 4.38776603e+01, 4.39424121e+00, 5.63409705e+01,\n",
      "       5.63409705e+01, 2.45288197e+02, 3.04708669e+01, 1.85501656e+01,\n",
      "       9.99094239e+01, 1.45748175e+02, 3.04708669e+01, 2.45288197e+02,\n",
      "       5.63409705e+01, 1.52081804e+01, 9.52542049e+01, 5.63409705e+01,\n",
      "       5.63409705e+01, 5.63409705e+01, 5.63409705e+01, 8.45629717e+00,\n",
      "       5.63409705e+01, 9.33554347e+01, 7.43265881e+01, 2.45288197e+02,\n",
      "       4.38776603e+01, 4.38776603e+01, 5.63409705e+01, 5.63409705e+01,\n",
      "       4.11618957e+01, 9.30252662e+01, 2.80494679e+02, 2.00239119e+03,\n",
      "       9.30568942e+01, 7.78916293e+01, 2.94295284e+02, 9.30568942e+01,\n",
      "       1.04571550e+02, 2.80494679e+02, 9.30568942e+01, 5.79153445e+01,\n",
      "       7.80447856e+01, 6.14803810e+01, 4.01159381e+02, 4.04893356e+00,\n",
      "       9.30568942e+01, 9.30568942e+01, 6.35057725e+01, 9.30568942e+01,\n",
      "       6.14803810e+01, 1.96444593e+02, 6.14803810e+01, 2.80494679e+02,\n",
      "       6.14803810e+01, 4.93138771e+01, 9.30568942e+01, 3.42895392e+01,\n",
      "       4.54197494e+01, 9.30568942e+01, 2.80494679e+02, 9.67966188e+00,\n",
      "       6.14803810e+01, 2.94295284e+02, 9.30568942e+01, 9.30568942e+01,\n",
      "       6.14803810e+01, 2.80494679e+02, 5.67645652e+01, 4.20109043e+02,\n",
      "       7.93699916e+01, 6.14803810e+01, 9.30568942e+01, 1.49629676e+01,\n",
      "       6.14803810e+01, 3.33957772e+02, 9.30568942e+01, 9.04117355e+01,\n",
      "       2.43087706e+02, 9.30568942e+01, 9.30568942e+01, 1.04850443e+02,\n",
      "       9.30568942e+01, 9.30568942e+01, 2.69005774e+02, 1.59940352e+02,\n",
      "       2.39784148e+01, 2.80494679e+02, 3.14281708e+00, 1.03633662e+02,\n",
      "       4.34635584e+01, 1.73390238e+02, 9.30568942e+01, 1.18855497e+02,\n",
      "       1.52694898e+02, 9.57988111e+01, 7.84986388e+01, 1.75657725e+02,\n",
      "       6.14803810e+01, 1.22162378e+02, 9.30568942e+01, 1.33674500e+02,\n",
      "       9.30568942e+01, 2.80494679e+02, 2.94295284e+02, 9.30568942e+01,\n",
      "       4.20576950e+02, 1.76483761e+01, 2.80494679e+02, 6.14803810e+01,\n",
      "       3.08048710e+01, 2.80494679e+02, 9.04117355e+01, 6.35057725e+01,\n",
      "       2.80494679e+02, 9.30568942e+01]), 'bias': array([9.75053483]), 'support_vectors': array([[3.000e+00, 1.110e+02, 5.600e+01, ..., 3.010e+01, 5.570e-01,\n",
      "        3.000e+01],\n",
      "       [8.000e+00, 8.500e+01, 5.500e+01, ..., 2.440e+01, 1.360e-01,\n",
      "        4.200e+01],\n",
      "       [1.000e+00, 1.110e+02, 8.600e+01, ..., 3.010e+01, 1.430e-01,\n",
      "        2.300e+01],\n",
      "       ...,\n",
      "       [6.000e+00, 1.480e+02, 7.200e+01, ..., 3.360e+01, 6.270e-01,\n",
      "        5.000e+01],\n",
      "       [1.000e+00, 1.220e+02, 9.000e+01, ..., 4.970e+01, 3.250e-01,\n",
      "        3.100e+01],\n",
      "       [0.000e+00, 1.800e+02, 6.600e+01, ..., 4.200e+01, 1.893e+00,\n",
      "        2.500e+01]]), 'yin': array([-1., -1., -1., -1., -1., -1., -1., -1., -1., -1., -1., -1., -1.,\n",
      "       -1., -1., -1., -1., -1., -1., -1., -1., -1., -1., -1., -1., -1.,\n",
      "       -1., -1., -1., -1., -1., -1., -1., -1., -1., -1., -1., -1., -1.,\n",
      "       -1., -1., -1., -1., -1., -1., -1., -1., -1., -1., -1., -1., -1.,\n",
      "       -1., -1., -1., -1., -1., -1., -1., -1., -1., -1., -1., -1., -1.,\n",
      "       -1., -1., -1., -1., -1., -1., -1., -1., -1., -1., -1., -1., -1.,\n",
      "       -1., -1., -1., -1., -1., -1., -1., -1., -1., -1., -1., -1., -1.,\n",
      "       -1., -1., -1., -1., -1., -1., -1., -1., -1., -1., -1., -1., -1.,\n",
      "       -1., -1., -1., -1., -1., -1., -1., -1., -1., -1., -1., -1., -1.,\n",
      "       -1., -1., -1., -1., -1., -1., -1., -1., -1., -1., -1., -1., -1.,\n",
      "        1.,  1.,  1.,  1.,  1.,  1.,  1.,  1.,  1.,  1.,  1.,  1.,  1.,\n",
      "        1.,  1.,  1.,  1.,  1.,  1.,  1.,  1.,  1.,  1.,  1.,  1.,  1.,\n",
      "        1.,  1.,  1.,  1.,  1.,  1.,  1.,  1.,  1.,  1.,  1.,  1.,  1.,\n",
      "        1.,  1.,  1.,  1.,  1.,  1.,  1.,  1.,  1.,  1.,  1.,  1.,  1.,\n",
      "        1.,  1.,  1.,  1.,  1.,  1.,  1.,  1.,  1.,  1.,  1.,  1.,  1.,\n",
      "        1.,  1.,  1.,  1.,  1.,  1.,  1.,  1.,  1.,  1.,  1.,  1.,  1.,\n",
      "        1.,  1.,  1.,  1.,  1.,  1.])}, 'kernel_matrix_testing': array([[0., 0., 0., ..., 0., 0., 0.],\n",
      "       [0., 0., 0., ..., 0., 0., 0.],\n",
      "       [0., 0., 0., ..., 0., 0., 0.],\n",
      "       ...,\n",
      "       [0., 0., 0., ..., 0., 0., 0.],\n",
      "       [0., 0., 0., ..., 0., 0., 0.],\n",
      "       [0., 0., 0., ..., 0., 0., 0.]]), 'testing_accuracy': 0.5081967213114754, 'test_success_ratio': 0.5081967213114754}\n"
     ]
    }
   ],
   "source": [
    "print(result)"
   ]
  }
 ],
 "metadata": {
  "kernelspec": {
   "display_name": "Python 3",
   "language": "python",
   "name": "python3"
  },
  "language_info": {
   "codemirror_mode": {
    "name": "ipython",
    "version": 3
   },
   "file_extension": ".py",
   "mimetype": "text/x-python",
   "name": "python",
   "nbconvert_exporter": "python",
   "pygments_lexer": "ipython3",
   "version": "3.6.9"
  }
 },
 "nbformat": 4,
 "nbformat_minor": 4
}
