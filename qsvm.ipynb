{
 "cells": [
  {
   "cell_type": "code",
   "execution_count": 1,
   "metadata": {},
   "outputs": [
    {
     "name": "stdout",
     "output_type": "stream",
     "text": [
      "Requirement already satisfied: qiskit in ./qc/lib/python3.6/site-packages (0.19.2)\n",
      "Requirement already satisfied: qiskit-ignis==0.3.0 in ./qc/lib/python3.6/site-packages (from qiskit) (0.3.0)\n",
      "Requirement already satisfied: qiskit-aqua==0.7.1 in ./qc/lib/python3.6/site-packages (from qiskit) (0.7.1)\n",
      "Requirement already satisfied: qiskit-aer==0.5.1 in ./qc/lib/python3.6/site-packages (from qiskit) (0.5.1)\n",
      "Requirement already satisfied: qiskit-ibmq-provider==0.7.1 in ./qc/lib/python3.6/site-packages (from qiskit) (0.7.1)\n",
      "Requirement already satisfied: qiskit-terra==0.14.1 in ./qc/lib/python3.6/site-packages (from qiskit) (0.14.1)\n",
      "Requirement already satisfied: numpy>=1.13 in ./qc/lib/python3.6/site-packages (from qiskit-ignis==0.3.0->qiskit) (1.18.4)\n",
      "Requirement already satisfied: setuptools>=40.1.0 in ./qc/lib/python3.6/site-packages (from qiskit-ignis==0.3.0->qiskit) (46.4.0)\n",
      "Requirement already satisfied: scipy!=0.19.1,>=0.19 in ./qc/lib/python3.6/site-packages (from qiskit-ignis==0.3.0->qiskit) (1.4.1)\n",
      "Requirement already satisfied: psutil>=5 in ./qc/lib/python3.6/site-packages (from qiskit-aqua==0.7.1->qiskit) (5.7.0)\n",
      "Requirement already satisfied: quandl in ./qc/lib/python3.6/site-packages (from qiskit-aqua==0.7.1->qiskit) (3.5.0)\n",
      "Requirement already satisfied: dlx in ./qc/lib/python3.6/site-packages (from qiskit-aqua==0.7.1->qiskit) (1.0.4)\n",
      "Requirement already satisfied: networkx>=2.2 in ./qc/lib/python3.6/site-packages (from qiskit-aqua==0.7.1->qiskit) (2.4)\n",
      "Requirement already satisfied: pyscf; sys_platform != \"win32\" in ./qc/lib/python3.6/site-packages (from qiskit-aqua==0.7.1->qiskit) (1.7.2.post2)\n",
      "Requirement already satisfied: h5py in ./qc/lib/python3.6/site-packages (from qiskit-aqua==0.7.1->qiskit) (2.10.0)\n",
      "Requirement already satisfied: docplex in ./qc/lib/python3.6/site-packages (from qiskit-aqua==0.7.1->qiskit) (2.14.186)\n",
      "Requirement already satisfied: fastdtw in ./qc/lib/python3.6/site-packages (from qiskit-aqua==0.7.1->qiskit) (0.3.4)\n",
      "Requirement already satisfied: scikit-learn>=0.20.0 in ./qc/lib/python3.6/site-packages (from qiskit-aqua==0.7.1->qiskit) (0.23.1)\n",
      "Requirement already satisfied: sympy>=1.3 in ./qc/lib/python3.6/site-packages (from qiskit-aqua==0.7.1->qiskit) (1.6)\n",
      "Requirement already satisfied: pybind11>=2.4 in ./qc/lib/python3.6/site-packages (from qiskit-aer==0.5.1->qiskit) (2.5.0)\n",
      "Requirement already satisfied: cython>=0.27.1 in ./qc/lib/python3.6/site-packages (from qiskit-aer==0.5.1->qiskit) (0.29.19)\n",
      "Requirement already satisfied: nest-asyncio!=1.1.0,>=1.0.0 in ./qc/lib/python3.6/site-packages (from qiskit-ibmq-provider==0.7.1->qiskit) (1.3.3)\n",
      "Requirement already satisfied: requests>=2.19 in ./qc/lib/python3.6/site-packages (from qiskit-ibmq-provider==0.7.1->qiskit) (2.23.0)\n",
      "Requirement already satisfied: requests-ntlm>=1.1.0 in ./qc/lib/python3.6/site-packages (from qiskit-ibmq-provider==0.7.1->qiskit) (1.1.0)\n",
      "Requirement already satisfied: python-dateutil>=2.8.0 in ./qc/lib/python3.6/site-packages (from qiskit-ibmq-provider==0.7.1->qiskit) (2.8.1)\n",
      "Requirement already satisfied: urllib3>=1.21.1 in ./qc/lib/python3.6/site-packages (from qiskit-ibmq-provider==0.7.1->qiskit) (1.24.3)\n",
      "Requirement already satisfied: websockets<8,>=7 in ./qc/lib/python3.6/site-packages (from qiskit-ibmq-provider==0.7.1->qiskit) (7.0)\n",
      "Requirement already satisfied: marshmallow<4,>=3 in ./qc/lib/python3.6/site-packages (from qiskit-terra==0.14.1->qiskit) (3.6.0)\n",
      "Requirement already satisfied: dill>=0.3 in ./qc/lib/python3.6/site-packages (from qiskit-terra==0.14.1->qiskit) (0.3.1.1)\n",
      "Requirement already satisfied: fastjsonschema>=2.10 in ./qc/lib/python3.6/site-packages (from qiskit-terra==0.14.1->qiskit) (2.14.4)\n",
      "Requirement already satisfied: jsonschema>=2.6 in ./qc/lib/python3.6/site-packages (from qiskit-terra==0.14.1->qiskit) (3.2.0)\n",
      "Requirement already satisfied: ply>=3.10 in ./qc/lib/python3.6/site-packages (from qiskit-terra==0.14.1->qiskit) (3.11)\n",
      "Requirement already satisfied: retworkx>=0.3.2 in ./qc/lib/python3.6/site-packages (from qiskit-terra==0.14.1->qiskit) (0.3.4)\n",
      "Requirement already satisfied: marshmallow-polyfield<6,>=5.7 in ./qc/lib/python3.6/site-packages (from qiskit-terra==0.14.1->qiskit) (5.9)\n",
      "Requirement already satisfied: python-constraint>=1.4 in ./qc/lib/python3.6/site-packages (from qiskit-terra==0.14.1->qiskit) (1.4.0)\n",
      "Requirement already satisfied: six in ./qc/lib/python3.6/site-packages (from quandl->qiskit-aqua==0.7.1->qiskit) (1.15.0)\n",
      "Requirement already satisfied: more-itertools in ./qc/lib/python3.6/site-packages (from quandl->qiskit-aqua==0.7.1->qiskit) (8.3.0)\n",
      "Requirement already satisfied: inflection>=0.3.1 in ./qc/lib/python3.6/site-packages (from quandl->qiskit-aqua==0.7.1->qiskit) (0.4.0)\n",
      "Requirement already satisfied: pandas>=0.14 in ./qc/lib/python3.6/site-packages (from quandl->qiskit-aqua==0.7.1->qiskit) (1.0.3)\n",
      "Requirement already satisfied: decorator>=4.3.0 in ./qc/lib/python3.6/site-packages (from networkx>=2.2->qiskit-aqua==0.7.1->qiskit) (4.4.2)\n",
      "Requirement already satisfied: threadpoolctl>=2.0.0 in ./qc/lib/python3.6/site-packages (from scikit-learn>=0.20.0->qiskit-aqua==0.7.1->qiskit) (2.0.0)\n",
      "Requirement already satisfied: joblib>=0.11 in ./qc/lib/python3.6/site-packages (from scikit-learn>=0.20.0->qiskit-aqua==0.7.1->qiskit) (0.15.1)\n",
      "Requirement already satisfied: mpmath>=0.19 in ./qc/lib/python3.6/site-packages (from sympy>=1.3->qiskit-aqua==0.7.1->qiskit) (1.1.0)\n",
      "Requirement already satisfied: certifi>=2017.4.17 in ./qc/lib/python3.6/site-packages (from requests>=2.19->qiskit-ibmq-provider==0.7.1->qiskit) (2020.4.5.1)\n",
      "Requirement already satisfied: chardet<4,>=3.0.2 in ./qc/lib/python3.6/site-packages (from requests>=2.19->qiskit-ibmq-provider==0.7.1->qiskit) (3.0.4)\n",
      "Requirement already satisfied: idna<3,>=2.5 in ./qc/lib/python3.6/site-packages (from requests>=2.19->qiskit-ibmq-provider==0.7.1->qiskit) (2.9)\n",
      "Requirement already satisfied: cryptography>=1.3 in ./qc/lib/python3.6/site-packages (from requests-ntlm>=1.1.0->qiskit-ibmq-provider==0.7.1->qiskit) (2.9.2)\n",
      "Requirement already satisfied: ntlm-auth>=1.0.2 in ./qc/lib/python3.6/site-packages (from requests-ntlm>=1.1.0->qiskit-ibmq-provider==0.7.1->qiskit) (1.4.0)\n",
      "Requirement already satisfied: attrs>=17.4.0 in ./qc/lib/python3.6/site-packages (from jsonschema>=2.6->qiskit-terra==0.14.1->qiskit) (19.3.0)\n",
      "Requirement already satisfied: importlib-metadata; python_version < \"3.8\" in ./qc/lib/python3.6/site-packages (from jsonschema>=2.6->qiskit-terra==0.14.1->qiskit) (1.6.0)\n",
      "Requirement already satisfied: pyrsistent>=0.14.0 in ./qc/lib/python3.6/site-packages (from jsonschema>=2.6->qiskit-terra==0.14.1->qiskit) (0.16.0)\n",
      "Requirement already satisfied: pytz>=2017.2 in ./qc/lib/python3.6/site-packages (from pandas>=0.14->quandl->qiskit-aqua==0.7.1->qiskit) (2020.1)\n",
      "Requirement already satisfied: cffi!=1.11.3,>=1.8 in ./qc/lib/python3.6/site-packages (from cryptography>=1.3->requests-ntlm>=1.1.0->qiskit-ibmq-provider==0.7.1->qiskit) (1.14.0)\n",
      "Requirement already satisfied: zipp>=0.5 in ./qc/lib/python3.6/site-packages (from importlib-metadata; python_version < \"3.8\"->jsonschema>=2.6->qiskit-terra==0.14.1->qiskit) (3.1.0)\n",
      "Requirement already satisfied: pycparser in ./qc/lib/python3.6/site-packages (from cffi!=1.11.3,>=1.8->cryptography>=1.3->requests-ntlm>=1.1.0->qiskit-ibmq-provider==0.7.1->qiskit) (2.20)\n"
     ]
    }
   ],
   "source": [
    "!pip install qiskit"
   ]
  },
  {
   "cell_type": "code",
   "execution_count": null,
   "metadata": {},
   "outputs": [
    {
     "name": "stdout",
     "output_type": "stream",
     "text": [
      "pima-indians-diabetes-database.zip: Skipping, found more recently modified local copy (use --force to force download)\n",
      "Archive:  pima-indians-diabetes-database.zip\n",
      "replace diabetes.csv? [y]es, [n]o, [A]ll, [N]one, [r]ename: "
     ]
    }
   ],
   "source": [
    "# unzipped already, no need to do again\n",
    "!unzip pima-indians-diabetes-database.zip"
   ]
  },
  {
   "cell_type": "code",
   "execution_count": null,
   "metadata": {},
   "outputs": [],
   "source": [
    "# just in case someone wants to see the ugly comma seperated file\n",
    "import csv\n",
    "with open('/data/diabetes.csv', newline='') as File:  \n",
    "    reader = csv.reader(File)\n",
    "    for row in reader:\n",
    "        print(row)"
   ]
  },
  {
   "cell_type": "code",
   "execution_count": 2,
   "metadata": {},
   "outputs": [
    {
     "name": "stdout",
     "output_type": "stream",
     "text": [
      "(768, 9)\n"
     ]
    }
   ],
   "source": [
    "import numpy as np\n",
    "data = np.genfromtxt('diabetes.csv', delimiter=',', names=True, case_sensitive=True)\n",
    "data = np.array(data.tolist()) # was an array of arrays earlier\n",
    "print(data.shape)\n",
    "x = np.copy(data[:,0:8]) #features\n",
    "y = np.copy(data[:,8]) #targets\n",
    "features = 8 #or number of qubits which I kept equal to number of features in this case"
   ]
  },
  {
   "cell_type": "code",
   "execution_count": 3,
   "metadata": {},
   "outputs": [],
   "source": [
    "from sklearn.model_selection import train_test_split\n",
    "import qiskit\n",
    "from qiskit import BasicAer\n",
    "from qiskit.aqua import QuantumInstance\n",
    "from qiskit.aqua.algorithms import QSVM\n",
    "from qiskit.aqua.components.multiclass_extensions import one_against_rest, all_pairs\n",
    "from qiskit.aqua.components.feature_maps import SecondOrderExpansion\n",
    "#from qiskit.aqua.input import ClassificationInput\n",
    "#from qiskit.aqua import run_algorithm"
   ]
  },
  {
   "cell_type": "code",
   "execution_count": 5,
   "metadata": {},
   "outputs": [],
   "source": [
    "#please and please again, use your own IBMQ token (can be generated easily), I have very few processes left for me.\n",
    "key = '243ff4202efc1b45ad9282b9d6d524cdcccfc25561a86de37424b5ddd9aaa72969ea300500423019c48da10777e3241a5a45ff4a223439239cba4bed8d8709cc'"
   ]
  },
  {
   "cell_type": "code",
   "execution_count": 6,
   "metadata": {},
   "outputs": [
    {
     "name": "stderr",
     "output_type": "stream",
     "text": [
      "configrc.store_credentials:WARNING:2020-06-16 13:30:14,519: Credentials already present. Set overwrite=True to overwrite.\n"
     ]
    }
   ],
   "source": [
    "qiskit.IBMQ.save_account(key)\n",
    "provider = qiskit.IBMQ.load_account()\n",
    "backend = provider.get_backend('ibmq_qasm_simulator')"
   ]
  },
  {
   "cell_type": "code",
   "execution_count": 8,
   "metadata": {},
   "outputs": [],
   "source": [
    "#using only first 100, if anyone is brave enough, train_test_split(x, y, test_size=0.2)\n",
    "train_x, test_x, train_y, test_y = train_test_split(x, y, test_size=0.2)\n",
    "\n",
    "training_data = {'A':train_x[train_y==0],'B':train_x[train_y==1]}\n",
    "testing_data = {'A':test_x[test_y==0],'B':test_x[test_y==1]}"
   ]
  },
  {
   "cell_type": "code",
   "execution_count": 9,
   "metadata": {
    "scrolled": true
   },
   "outputs": [],
   "source": [
    "#Using RawFeatureVector reduces time immensely!\n",
    "#feature_map = SecondOrderExpansion(feature_dimension=features,depth=2,entanglement='full')\n",
    "from qiskit.aqua.components.feature_maps import RawFeatureVector\n",
    "feature_map = RawFeatureVector(8)\n",
    "\n",
    "svm = QSVM(feature_map,training_data,testing_data)\n",
    "shots = 1 \n",
    "quantum_instance = QuantumInstance(backend,shots=shots,skip_qobj_validation=False)"
   ]
  },
  {
   "cell_type": "code",
   "execution_count": 13,
   "metadata": {
    "scrolled": true
   },
   "outputs": [
    {
     "name": "stdout",
     "output_type": "stream",
     "text": [
      "Collecting cvxopt\n",
      "  Downloading cvxopt-1.2.5-cp37-cp37m-manylinux1_x86_64.whl (11.6 MB)\n",
      "\u001b[K     |████████████████████████████████| 11.6 MB 6.2 MB/s eta 0:00:01\n",
      "\u001b[?25hInstalling collected packages: cvxopt\n",
      "Successfully installed cvxopt-1.2.5\n"
     ]
    }
   ],
   "source": [
    "!pip install cvxopt"
   ]
  },
  {
   "cell_type": "code",
   "execution_count": 10,
   "metadata": {
    "scrolled": true
   },
   "outputs": [
    {
     "name": "stdout",
     "output_type": "stream",
     "text": [
      "CPU times: user 1h 35min 56s, sys: 8min 30s, total: 1h 44min 26s\n",
      "Wall time: 6h 44min 34s\n"
     ]
    }
   ],
   "source": [
    "%%time\n",
    "result = svm.run(quantum_instance)"
   ]
  },
  {
   "cell_type": "code",
   "execution_count": 11,
   "metadata": {
    "scrolled": true
   },
   "outputs": [
    {
     "name": "stdout",
     "output_type": "stream",
     "text": [
      "{'kernel_matrix_training': array([[1., 0., 0., ..., 1., 1., 1.],\n",
      "       [0., 1., 1., ..., 1., 1., 1.],\n",
      "       [0., 1., 1., ..., 0., 1., 0.],\n",
      "       ...,\n",
      "       [1., 1., 0., ..., 1., 0., 1.],\n",
      "       [1., 1., 1., ..., 0., 1., 1.],\n",
      "       [1., 1., 0., ..., 1., 1., 1.]]), 'svm': {'alphas': array([3.84157702e+02, 1.78411207e+02, 3.17052767e+02, 3.52630557e+01,\n",
      "       3.95742243e+01, 4.29433439e+01, 1.47224338e+02, 2.51176596e+02,\n",
      "       4.22106664e+02, 2.33135853e+02, 2.65684971e+02, 2.20864310e+02,\n",
      "       2.26702372e+02, 2.18416176e+02, 3.56675089e+02, 2.52306392e+02,\n",
      "       2.84524068e+02, 3.51787823e+01, 1.11917235e+02, 4.71798889e+02,\n",
      "       3.71969298e+02, 6.59971291e+01, 5.78713377e+02, 4.27785871e+02,\n",
      "       5.45377710e+02, 1.33947597e+02, 3.26590590e+02, 6.06964095e+02,\n",
      "       4.65469459e+02, 2.43507845e+02, 3.84107935e+02, 1.38583153e+02,\n",
      "       3.98063346e+02, 1.49162946e+02, 4.72159459e+02, 3.49092922e+01,\n",
      "       2.06451366e+01, 3.28328317e+02, 7.69795944e+01, 5.60201443e+01,\n",
      "       6.14472398e+02, 1.78822528e-01, 3.46962539e+01, 1.70565420e+02,\n",
      "       1.73083652e+02, 4.22205021e+01, 4.99941840e+01, 2.66821784e+02,\n",
      "       2.62061763e+02, 2.13314127e+02, 1.25144863e+02, 4.68441951e+02,\n",
      "       2.55718747e+02, 7.81762174e+01, 9.79646119e+01, 1.37873288e+02,\n",
      "       1.10900534e+02, 2.75070448e+01, 3.04166044e+02, 3.53012753e+02,\n",
      "       2.13847253e+01, 1.29600239e+02, 2.24459682e+02, 1.46162308e+02,\n",
      "       3.07979996e+02, 1.53326422e+02, 1.01579409e+02, 7.59520722e+02,\n",
      "       2.76437168e+01, 3.18032419e+02, 2.91130028e+02, 5.34626231e+02,\n",
      "       4.78389528e+02, 3.70715903e+02, 2.57325759e+02, 2.44445866e+02,\n",
      "       1.65108202e+02, 4.66121288e+01, 1.50089224e+02, 5.27959736e+02,\n",
      "       1.42338098e+02, 3.98860100e+02, 1.94501932e+02, 2.17972624e+01,\n",
      "       8.22588544e+01, 1.61602003e+02, 2.01164990e+02, 1.91731416e+02,\n",
      "       1.51789458e+02, 7.19449517e+02, 2.68372229e+02, 5.58063547e+02,\n",
      "       4.41820650e+02, 1.57270554e+02, 2.14439087e+02, 2.36850958e+02,\n",
      "       6.26442666e+02, 1.48959862e+02, 2.12545987e+02, 3.49318681e+02,\n",
      "       1.96647248e+02, 1.28952083e+02, 6.26417635e+02, 7.11884457e+01,\n",
      "       1.05506157e+02, 2.49393450e+02, 2.91165194e+01, 2.85208376e+02,\n",
      "       4.23191411e+00, 2.50259410e+02, 5.79988290e+02, 2.12619838e+02,\n",
      "       2.41194380e+02, 3.44729191e+02, 1.37824564e+02, 9.08321915e+01,\n",
      "       1.63320924e+02, 7.57996898e+02, 7.55799103e+02, 1.87592346e+02,\n",
      "       1.33016340e+02, 3.21907150e+02, 5.03940386e+02, 3.59723905e+02,\n",
      "       3.17369953e+02, 3.13259641e+02, 3.33039886e+02, 1.68765434e+02,\n",
      "       8.93915453e+01, 5.50887786e+02, 3.45787338e+01, 2.13907859e+01,\n",
      "       5.39074142e+02, 2.78859482e+01, 6.36042097e+01, 1.13586900e+01,\n",
      "       1.07863315e+01, 2.00325013e+02, 5.23217203e+01, 2.19706485e+02,\n",
      "       1.92924598e+02, 3.27188614e+02, 1.61772027e+02, 1.03650875e+02,\n",
      "       2.29073069e+02, 1.72089989e+01, 5.17596850e+02, 1.77048120e+02,\n",
      "       2.97252365e+02, 3.51231345e+02, 5.93347783e+01, 1.08780780e+02,\n",
      "       2.11539088e+01, 1.97338775e+01, 3.51901792e+02, 3.32218915e+02,\n",
      "       4.38078900e+02, 3.58592103e+02, 3.26773806e+02, 1.74495519e+02,\n",
      "       2.41341870e+01, 2.93010255e+02, 5.58449515e+01, 3.18681908e+01,\n",
      "       2.81618379e+02, 3.29341813e+01, 1.53739893e+01, 2.31711842e+02,\n",
      "       2.32433116e+02, 2.58806843e+02, 3.00421282e+02, 5.96831409e+02,\n",
      "       1.29320857e+02, 3.00569228e+02, 4.13118211e+02, 3.54551833e+01,\n",
      "       2.26512331e+01, 3.78245398e+02, 6.93295413e+01, 1.60919351e+02,\n",
      "       3.95512473e+02, 3.05663356e+02, 1.17745945e+02, 1.42295088e+02,\n",
      "       9.37761924e+01, 5.55672403e+02, 1.96148316e+02, 3.21408845e+02,\n",
      "       6.19429832e+01, 3.88514917e+01, 1.74010568e+02, 1.81139817e+02,\n",
      "       1.83176733e+02, 3.14197913e+02, 5.85716565e+01, 5.39357329e+01,\n",
      "       9.42937608e+00, 1.43374375e+02, 6.28746089e+01, 2.05707823e+02,\n",
      "       7.74864122e+01, 7.33416471e+01, 3.01388729e+02, 4.77248075e+02,\n",
      "       2.13402084e+02, 4.55157716e+02, 1.71108527e+02, 2.07503178e+02,\n",
      "       6.87823072e+01, 2.07860425e+02, 2.79469041e+02, 5.25444573e+02,\n",
      "       3.61044699e+02, 1.41450278e+02, 4.39225697e+02, 6.29695276e+01,\n",
      "       2.72730837e+02, 1.84439894e+02, 1.04899223e+01, 1.03331604e+02,\n",
      "       2.75162290e+02, 3.10473533e+02, 6.54273306e+01, 2.75972854e+01,\n",
      "       4.19853630e+02, 2.75811766e+02, 1.40923915e+02, 4.27135435e+02,\n",
      "       3.75696098e+02, 2.30597442e+02, 1.72920997e+02, 1.81669583e+02,\n",
      "       3.15378253e+02, 5.63949211e+00, 2.20784991e+02, 1.80877567e+02,\n",
      "       4.49462133e+02, 2.95319137e+02, 3.95837218e+02, 1.11736004e+01,\n",
      "       4.08435980e+02, 2.19878813e+02, 4.05339602e+02, 5.51725771e+02,\n",
      "       3.53617607e+02, 5.28563196e+00, 2.61455636e+02, 9.92628816e+01,\n",
      "       2.55094613e+02, 3.56625057e+02, 2.78926183e+02, 6.05112752e+01,\n",
      "       1.78801629e+02, 1.94362524e+02, 1.01511633e+01, 7.67228863e+01,\n",
      "       5.38359039e+02, 9.12488835e+01, 5.36011537e+01, 3.09557930e+01,\n",
      "       3.91571936e+02, 2.01089828e+02, 1.32783405e+02, 1.05886976e+02,\n",
      "       3.52196133e+02, 8.58343014e+02, 1.13994011e+01, 1.52541060e+02,\n",
      "       2.13300508e+01, 1.25890988e+02]), 'bias': array([102.54039264]), 'support_vectors': array([[  6.   ,  98.   ,  58.   , ...,  34.   ,   0.43 ,  43.   ],\n",
      "       [  1.   ,  77.   ,  56.   , ...,  33.3  ,   1.251,  24.   ],\n",
      "       [  2.   ,  56.   ,  56.   , ...,  24.2  ,   0.332,  22.   ],\n",
      "       ...,\n",
      "       [  6.   , 134.   ,  80.   , ...,  46.2  ,   0.238,  46.   ],\n",
      "       [ 14.   , 175.   ,  62.   , ...,  33.6  ,   0.212,  38.   ],\n",
      "       [ 11.   , 155.   ,  76.   , ...,  33.3  ,   1.353,  51.   ]]), 'yin': array([-1., -1., -1., -1., -1., -1., -1., -1., -1., -1., -1., -1., -1.,\n",
      "       -1., -1., -1., -1., -1., -1., -1., -1., -1., -1., -1., -1., -1.,\n",
      "       -1., -1., -1., -1., -1., -1., -1., -1., -1., -1., -1., -1., -1.,\n",
      "       -1., -1., -1., -1., -1., -1., -1., -1., -1., -1., -1., -1., -1.,\n",
      "       -1., -1., -1., -1., -1., -1., -1., -1., -1., -1., -1., -1., -1.,\n",
      "       -1., -1., -1., -1., -1., -1., -1., -1., -1., -1., -1., -1., -1.,\n",
      "       -1., -1., -1., -1., -1., -1., -1., -1., -1., -1., -1., -1., -1.,\n",
      "       -1., -1., -1., -1., -1., -1., -1., -1., -1., -1., -1., -1., -1.,\n",
      "       -1., -1., -1., -1., -1., -1., -1., -1., -1., -1., -1., -1., -1.,\n",
      "       -1., -1., -1., -1., -1., -1., -1., -1., -1., -1., -1., -1., -1.,\n",
      "       -1., -1., -1., -1., -1., -1., -1., -1., -1., -1., -1., -1., -1.,\n",
      "       -1., -1., -1., -1., -1., -1., -1., -1., -1., -1., -1., -1., -1.,\n",
      "       -1., -1., -1., -1., -1., -1., -1., -1., -1., -1., -1., -1., -1.,\n",
      "       -1., -1., -1., -1., -1., -1., -1., -1., -1.,  1.,  1.,  1.,  1.,\n",
      "        1.,  1.,  1.,  1.,  1.,  1.,  1.,  1.,  1.,  1.,  1.,  1.,  1.,\n",
      "        1.,  1.,  1.,  1.,  1.,  1.,  1.,  1.,  1.,  1.,  1.,  1.,  1.,\n",
      "        1.,  1.,  1.,  1.,  1.,  1.,  1.,  1.,  1.,  1.,  1.,  1.,  1.,\n",
      "        1.,  1.,  1.,  1.,  1.,  1.,  1.,  1.,  1.,  1.,  1.,  1.,  1.,\n",
      "        1.,  1.,  1.,  1.,  1.,  1.,  1.,  1.,  1.,  1.,  1.,  1.,  1.,\n",
      "        1.,  1.,  1.,  1.,  1.,  1.,  1.,  1.,  1.,  1.,  1.,  1.,  1.,\n",
      "        1.,  1.,  1.,  1.,  1.,  1.,  1.,  1.,  1.,  1.])}, 'kernel_matrix_testing': array([[1., 1., 1., ..., 1., 1., 1.],\n",
      "       [1., 1., 1., ..., 0., 1., 1.],\n",
      "       [1., 0., 1., ..., 1., 1., 1.],\n",
      "       ...,\n",
      "       [1., 0., 1., ..., 0., 1., 1.],\n",
      "       [0., 1., 1., ..., 0., 1., 0.],\n",
      "       [0., 0., 0., ..., 1., 1., 0.]]), 'testing_accuracy': 0.6363636363636364, 'test_success_ratio': 0.6363636363636364}\n"
     ]
    }
   ],
   "source": [
    "print(result)"
   ]
  }
 ],
 "metadata": {
  "kernelspec": {
   "display_name": "Python 3",
   "language": "python",
   "name": "python3"
  },
  "language_info": {
   "codemirror_mode": {
    "name": "ipython",
    "version": 3
   },
   "file_extension": ".py",
   "mimetype": "text/x-python",
   "name": "python",
   "nbconvert_exporter": "python",
   "pygments_lexer": "ipython3",
   "version": "3.6.9"
  }
 },
 "nbformat": 4,
 "nbformat_minor": 4
}
